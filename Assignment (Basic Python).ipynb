{
 "cells": [
  {
   "cell_type": "code",
   "execution_count": 13,
   "id": "7e3fe9da",
   "metadata": {},
   "outputs": [
    {
     "name": "stdout",
     "output_type": "stream",
     "text": [
      "test file\n"
     ]
    }
   ],
   "source": [
    "print(\"test file\")"
   ]
  },
  {
   "cell_type": "code",
   "execution_count": null,
   "id": "dcf2264b",
   "metadata": {},
   "outputs": [],
   "source": [
    " # 1 Find the largest of two numbers\n",
    "\n",
    "num1 = int(input(\"Enter first number: \"))\n",
    "num2 = int(input(\"Enter second number: \"))\n",
    "\n",
    "if num1 > num2:\n",
    "    print(\"The largest number is:\", num1)\n",
    "else:\n",
    "    print(\"The largest number is:\", num2)\n"
   ]
  },
  {
   "cell_type": "code",
   "execution_count": null,
   "id": "975d808f",
   "metadata": {},
   "outputs": [
    {
     "name": "stdout",
     "output_type": "stream",
     "text": [
      "1\n",
      "2\n",
      "3\n",
      "4\n",
      "5\n"
     ]
    }
   ],
   "source": [
    "# 2. Print Numbers from 1 to N\n",
    "\n",
    "\n",
    "n=int (input(\"Enter a number: \"))\n",
    "for i in range(1, n+1,1):\n",
    "    print(i)"
   ]
  },
  {
   "cell_type": "code",
   "execution_count": null,
   "id": "7f681cb5",
   "metadata": {},
   "outputs": [
    {
     "name": "stdout",
     "output_type": "stream",
     "text": [
      "The number is negative.\n"
     ]
    }
   ],
   "source": [
    "### 3. Check if a Number is Positive or Negative\n",
    "num=float(input(\"Enter a number: \"))\n",
    "if num==0:\n",
    "    print(\"The number is zero.\")\n",
    "elif num>0:\n",
    "    print(\"The number is positive.\")\n",
    "else:\n",
    "    print(\"The number is negative.\")"
   ]
  },
  {
   "cell_type": "code",
   "execution_count": null,
   "id": "71f70424",
   "metadata": {},
   "outputs": [
    {
     "name": "stdout",
     "output_type": "stream",
     "text": [
      "Sum of digits is: 6\n"
     ]
    }
   ],
   "source": [
    "### 4. Calculate the Sum of Digits\n",
    "num = input(\"Enter a number: \")\n",
    "total = 0\n",
    "\n",
    "for i in num:\n",
    "    total = total + int(i)\n",
    "\n",
    "print(\"Sum of digits is:\", total)\n"
   ]
  },
  {
   "cell_type": "code",
   "execution_count": null,
   "id": "88b7010f",
   "metadata": {},
   "outputs": [
    {
     "name": "stdout",
     "output_type": "stream",
     "text": [
      "factorial  24\n"
     ]
    }
   ],
   "source": [
    "### 5. Find Factorial of a Number\n",
    "num = int(input(\"Enter a number: \"))\n",
    "factorial = 1\n",
    "if num < 0:\n",
    "    print(\"Factorial is not defined for negative numbers.\")\n",
    "elif num == 0:\n",
    "    print(\"The factorial of 0 is 1.\")\n",
    "else:\n",
    "    for i in range(1, num + 1):\n",
    "        factorial = factorial * i\n",
    "    print(\"factorial \",  factorial)\n",
    "\n"
   ]
  },
  {
   "cell_type": "code",
   "execution_count": null,
   "id": "36bedc71",
   "metadata": {},
   "outputs": [],
   "source": []
  },
  {
   "cell_type": "code",
   "execution_count": 2,
   "id": "f91674da",
   "metadata": {},
   "outputs": [
    {
     "name": "stdout",
     "output_type": "stream",
     "text": [
      "3\n"
     ]
    }
   ],
   "source": [
    "# 6\n",
    "\n",
    "number = input(\" Enter a number: \")\n",
    "max_count = 0\n",
    "for digit in set(number):\n",
    "    count = number.count(digit)\n",
    "    if count > max_count:\n",
    "        max_count = count\n",
    "print(max_count)\n"
   ]
  },
  {
   "cell_type": "code",
   "execution_count": 4,
   "id": "27700f4e",
   "metadata": {},
   "outputs": [
    {
     "name": "stdout",
     "output_type": "stream",
     "text": [
      "4\n"
     ]
    }
   ],
   "source": [
    "a = int(input(\"Enter first number: \"))\n",
    "b = int(input(\"Enter second number: \"))\n",
    "\n",
    "gcd = 1\n",
    "\n",
    "for i in range(1, a+1,1):\n",
    "    if a % i == 0 and b % i == 0:\n",
    "        gcd = i\n",
    "\n",
    "print(gcd)\n"
   ]
  },
  {
   "cell_type": "code",
   "execution_count": 1,
   "id": "e8c1d63e",
   "metadata": {},
   "outputs": [
    {
     "name": "stdout",
     "output_type": "stream",
     "text": [
      "ifohs\n"
     ]
    }
   ],
   "source": [
    "text = input(\"Enter a string: \")\n",
    "\n",
    "reverse_text = text[::-1]\n",
    "\n",
    "print(reverse_text)\n"
   ]
  },
  {
   "cell_type": "code",
   "execution_count": null,
   "id": "24014f6e",
   "metadata": {},
   "outputs": [],
   "source": []
  }
 ],
 "metadata": {
  "kernelspec": {
   "display_name": "Python 3",
   "language": "python",
   "name": "python3"
  },
  "language_info": {
   "codemirror_mode": {
    "name": "ipython",
    "version": 3
   },
   "file_extension": ".py",
   "mimetype": "text/x-python",
   "name": "python",
   "nbconvert_exporter": "python",
   "pygments_lexer": "ipython3",
   "version": "3.13.7"
  }
 },
 "nbformat": 4,
 "nbformat_minor": 5
}
